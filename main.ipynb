{
 "cells": [
  {
   "cell_type": "code",
   "execution_count": 2,
   "id": "ec2d09ca",
   "metadata": {},
   "outputs": [],
   "source": [
    "from main import fetch_infosys_news"
   ]
  },
  {
   "cell_type": "code",
   "execution_count": 3,
   "id": "5dc7e689",
   "metadata": {},
   "outputs": [
    {
     "name": "stdout",
     "output_type": "stream",
     "text": [
      "Opened: https://www.google.com/search?q=infosys+company&tbm=nws&tbs=sbd:1\n",
      "Found 10 news cards.\n",
      "Saved data to infosys_news_results.xlsx\n"
     ]
    }
   ],
   "source": [
    "fetch_infosys_news(\"infosys+company\")"
   ]
  }
 ],
 "metadata": {
  "kernelspec": {
   "display_name": "venv",
   "language": "python",
   "name": "python3"
  },
  "language_info": {
   "codemirror_mode": {
    "name": "ipython",
    "version": 3
   },
   "file_extension": ".py",
   "mimetype": "text/x-python",
   "name": "python",
   "nbconvert_exporter": "python",
   "pygments_lexer": "ipython3",
   "version": "3.11.3"
  }
 },
 "nbformat": 4,
 "nbformat_minor": 5
}
